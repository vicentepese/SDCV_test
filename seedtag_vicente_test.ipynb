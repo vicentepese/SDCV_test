{
 "cells": [
  {
   "cell_type": "markdown",
   "metadata": {},
   "source": [
    "# SeedTag Coding Test\n",
    "\n",
    "## Introduction \n",
    "For this coding test, we are presented with 3 tasks which essentially consist of:\n",
    "- **Task 1:** Image classification\n",
    "- **Task 2:** Transfer learning \n",
    "- **Task 3:** Unsupervised Learning / Image clustering\n"
   ]
  },
  {
   "cell_type": "markdown",
   "metadata": {},
   "source": [
    "# Task 1\n",
    "\n",
    "In this task, we are provided with the Street View House Numbers (SVHN) dataset. The SVHN dataset, consists of a set of 32x32 RGB images taken from street house numbers, from different angles, light exposures, and with different fonts. Each image is accompanied by a numerical label ranging from 1 to 10, whereby 10 corresponds to the number 0. In this task, the dataset is divided in a training and test set consisting of ~73k and ~6.5k samples respectively. The purpose of this task is to create a model capable of maximizing classification accuracies. \n"
   ]
  },
  {
   "cell_type": "markdown",
   "metadata": {},
   "source": [
    "Firstly, we import the necessary libraries that we will use accross the notebook."
   ]
  },
  {
   "cell_type": "code",
   "execution_count": null,
   "metadata": {},
   "outputs": [],
   "source": [
    "import torchvision\n",
    "import torch\n",
    "import os \n",
    "import json\n",
    "\n",
    "import numpy as np\n",
    "import matplotlib.pyplot as plt\n",
    "import matplotlib.pyplot as plt\n",
    "import torchvision.transforms.functional as F\n",
    "import scipy.io as sio\n",
    "import numpy as np\n",
    "import torch.nn as nn\n",
    "from pytorch_lightning import loggers as pl_loggers\n",
    "import pytorch_lightning as pl\n",
    "import torch.nn.utils.prune as prune\n",
    "import torchvision.transforms as transforms\n",
    "import scipy.io as sio\n",
    "\n",
    "from torch.utils.data import Dataset\n",
    "from PIL import Image\n",
    "from time import time\n",
    "from  torch.utils.data import DataLoader\n",
    "import torchmetrics\n",
    "from sklearn.metrics import accuracy_score\n"
   ]
  },
  {
   "cell_type": "markdown",
   "metadata": {},
   "source": [
    "Secondly, we leverage the dataset loading function, and the Dataset class provided in the example."
   ]
  },
  {
   "cell_type": "code",
   "execution_count": 1,
   "metadata": {},
   "outputs": [
    {
     "ename": "NameError",
     "evalue": "name 'Dataset' is not defined",
     "output_type": "error",
     "traceback": [
      "\u001b[0;31m---------------------------------------------------------------------------\u001b[0m",
      "\u001b[0;31mNameError\u001b[0m                                 Traceback (most recent call last)",
      "\u001b[1;32m/home/vicente/Documents/Other/SDCV_test/seedtag_vicente_test.ipynb Cell 6'\u001b[0m in \u001b[0;36m<cell line: 53>\u001b[0;34m()\u001b[0m\n\u001b[1;32m     <a href='vscode-notebook-cell:/home/vicente/Documents/Other/SDCV_test/seedtag_vicente_test.ipynb#ch0000005?line=49'>50</a>\u001b[0m     \u001b[39mprint\u001b[39m(\u001b[39m'\u001b[39m\u001b[39mPossible Labels: \u001b[39m\u001b[39m'\u001b[39m, np\u001b[39m.\u001b[39munique(labels))\n\u001b[1;32m     <a href='vscode-notebook-cell:/home/vicente/Documents/Other/SDCV_test/seedtag_vicente_test.ipynb#ch0000005?line=50'>51</a>\u001b[0m     \u001b[39mreturn\u001b[39;00m imgs,labels\n\u001b[0;32m---> <a href='vscode-notebook-cell:/home/vicente/Documents/Other/SDCV_test/seedtag_vicente_test.ipynb#ch0000005?line=52'>53</a>\u001b[0m \u001b[39mclass\u001b[39;00m \u001b[39mSVHNDataset\u001b[39;00m(Dataset):\n\u001b[1;32m     <a href='vscode-notebook-cell:/home/vicente/Documents/Other/SDCV_test/seedtag_vicente_test.ipynb#ch0000005?line=53'>54</a>\u001b[0m     \u001b[39m\"\"\"SVHNDataset SVHN Dataset class to parse images and targets\u001b[39;00m\n\u001b[1;32m     <a href='vscode-notebook-cell:/home/vicente/Documents/Other/SDCV_test/seedtag_vicente_test.ipynb#ch0000005?line=54'>55</a>\u001b[0m \n\u001b[1;32m     <a href='vscode-notebook-cell:/home/vicente/Documents/Other/SDCV_test/seedtag_vicente_test.ipynb#ch0000005?line=55'>56</a>\u001b[0m \u001b[39m    Args:\u001b[39;00m\n\u001b[1;32m     <a href='vscode-notebook-cell:/home/vicente/Documents/Other/SDCV_test/seedtag_vicente_test.ipynb#ch0000005?line=56'>57</a>\u001b[0m \u001b[39m        Dataset (Dataset): None\u001b[39;00m\n\u001b[1;32m     <a href='vscode-notebook-cell:/home/vicente/Documents/Other/SDCV_test/seedtag_vicente_test.ipynb#ch0000005?line=57'>58</a>\u001b[0m \u001b[39m    \"\"\"\u001b[39;00m\n\u001b[1;32m     <a href='vscode-notebook-cell:/home/vicente/Documents/Other/SDCV_test/seedtag_vicente_test.ipynb#ch0000005?line=59'>60</a>\u001b[0m     \u001b[39mdef\u001b[39;00m \u001b[39m__init__\u001b[39m(\u001b[39mself\u001b[39m, \n\u001b[1;32m     <a href='vscode-notebook-cell:/home/vicente/Documents/Other/SDCV_test/seedtag_vicente_test.ipynb#ch0000005?line=60'>61</a>\u001b[0m                  root_dir, \n\u001b[1;32m     <a href='vscode-notebook-cell:/home/vicente/Documents/Other/SDCV_test/seedtag_vicente_test.ipynb#ch0000005?line=61'>62</a>\u001b[0m                  split, \n\u001b[1;32m     <a href='vscode-notebook-cell:/home/vicente/Documents/Other/SDCV_test/seedtag_vicente_test.ipynb#ch0000005?line=62'>63</a>\u001b[0m                  transform\u001b[39m=\u001b[39m\u001b[39mNone\u001b[39;00m):\n",
      "\u001b[0;31mNameError\u001b[0m: name 'Dataset' is not defined"
     ]
    }
   ],
   "source": [
    "def load_data(root_dir, split):\n",
    "    \"\"\"load_data Load images from the dataset\n",
    "\n",
    "    Args:\n",
    "        root_dir (string): root directory \n",
    "        split (string): type of split based on the task  \n",
    "\n",
    "    Returns:\n",
    "        tuple: set of images and lables\n",
    "    \"\"\"\n",
    "    \n",
    "    filename = os.path.join(root_dir,'test_32x32.mat')\n",
    "    if(split.startswith('train') or split.startswith('unlabelled')):\n",
    "        filename = os.path.join(root_dir,'train_32x32.mat') \n",
    "    elif(split.startswith('test')):\n",
    "        filename = os.path.join(root_dir,'test_32x32.mat')\n",
    "    \n",
    "    # Load matrix\n",
    "    loaded_mat = sio.loadmat(filename)\n",
    "    \n",
    "    # Parse images and normalize\n",
    "    imgs = (loaded_mat['X']/255).astype(np.float32)\n",
    "    \n",
    "    # Parse labels, convert to int and create vector\n",
    "    labels = loaded_mat['y'].astype(np.int64).squeeze()\n",
    "    \n",
    "    \n",
    "    if(split=='train_29_task2'):\n",
    "        imgs_idx_01 =  np.logical_or(labels==10,labels==1)\n",
    "        imgs_idx_29 = np.where(np.logical_not(imgs_idx_01))\n",
    "        imgs = imgs[:,:,:,imgs_idx_29]\n",
    "        labels = labels[imgs_idx_29]\n",
    "    elif(split=='test_01_task2' or split=='train_01_task2'):\n",
    "        imgs_idx_01 =  np.where(np.logical_or(labels==10,labels==1))[0]\n",
    "        if(split=='train_01_task2'):\n",
    "            imgs_idx_01 = imgs_idx_01[0:200]\n",
    "        else:\n",
    "            imgs_idx_01 = imgs_idx_01[200::]\n",
    "        imgs = imgs[:,:,:,imgs_idx_01]\n",
    "        labels = labels[imgs_idx_01]\n",
    "    if(split=='test_task3'):\n",
    "        N = 50\n",
    "        imgs = imgs[:,:,:,0:N]\n",
    "        labels = labels[0:N]\n",
    "    print('Loaded SVHN split: {split}'.format(split=split))\n",
    "    print('-------------------------------------')\n",
    "    print('Images Size: ' , imgs.shape[0:-1])\n",
    "    print('Split Number of Images:', imgs.shape[-1])\n",
    "    print('Split Labels Array Size:', labels.shape)\n",
    "    print('Possible Labels: ', np.unique(labels))\n",
    "    return imgs,labels\n",
    "\n",
    "class SVHNDataset(Dataset):\n",
    "    \"\"\"SVHNDataset SVHN Dataset class to parse images and targets\n",
    "\n",
    "    Args:\n",
    "        Dataset (Dataset): None\n",
    "    \"\"\"\n",
    "\n",
    "    def __init__(self, \n",
    "                 root_dir, \n",
    "                 split, \n",
    "                 transform=None):\n",
    "        self.images, self.labels = load_data(root_dir, split)\n",
    "        self.transform = transform\n",
    "        \n",
    "    def __len__(self):\n",
    "        return len(self.labels)\n",
    "\n",
    "    def __getitem__(self, index):\n",
    "        img, target = self.images[:,:,:,index], int(self.labels[index])\n",
    "        if self.transform:\n",
    "            img = self.transform(img)\n",
    "        return img, target-1 # target -1 assuming that there are no 0s"
   ]
  },
  {
   "cell_type": "code",
   "execution_count": null,
   "metadata": {},
   "outputs": [],
   "source": []
  },
  {
   "cell_type": "markdown",
   "metadata": {},
   "source": []
  }
 ],
 "metadata": {
  "interpreter": {
   "hash": "36cd9c72487dc6656f0700a68ff7f742b77337ee72bebccff0cc8ca781483210"
  },
  "kernelspec": {
   "display_name": "Python 3.8.10 ('env': venv)",
   "language": "python",
   "name": "python3"
  },
  "language_info": {
   "codemirror_mode": {
    "name": "ipython",
    "version": 3
   },
   "file_extension": ".py",
   "mimetype": "text/x-python",
   "name": "python",
   "nbconvert_exporter": "python",
   "pygments_lexer": "ipython3",
   "version": "3.8.10"
  },
  "orig_nbformat": 4
 },
 "nbformat": 4,
 "nbformat_minor": 2
}
