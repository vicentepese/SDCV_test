{
 "cells": [
  {
   "cell_type": "markdown",
   "metadata": {},
   "source": [
    "# SeedTag Coding Test\n",
    "\n",
    "## Introduction \n",
    "For this coding test, we are presented with 3 tasks which essentially consist of:\n",
    "- **Task 1:** Image classification\n",
    "- **Task 2:** Transfer learning \n",
    "- **Task 3:** Unsupervised Learning / Image clustering\n"
   ]
  },
  {
   "cell_type": "markdown",
   "metadata": {},
   "source": [
    "# Task 1\n",
    "\n",
    "In this task, we are provided with the Street View House Numbers (SVHN) dataset. The SVHN dataset, consists of a set of 32x32 RGB images taken from street house numbers, from different angles, light exposures, and with different fonts. Each image is accompanied by a numerical label ranging from 1 to 10, whereby 10 corresponds to the number 0. In this task, the dataset is divided in a training and test set consisting of ~73k and ~6.5k samples respectively. The purpose of this task is to create a model capable of maximizing classification accuracy. \n"
   ]
  },
  {
   "cell_type": "markdown",
   "metadata": {},
   "source": [
    "Firstly, we import the necessary libraries that we will use accross the notebook."
   ]
  },
  {
   "cell_type": "code",
   "execution_count": 33,
   "metadata": {},
   "outputs": [],
   "source": [
    "import torchvision\n",
    "import torch\n",
    "import os \n",
    "import json\n",
    "import sklearn\n",
    "import copy\n",
    "\n",
    "import numpy as np\n",
    "import matplotlib.pyplot as plt\n",
    "import matplotlib.pyplot as plt\n",
    "import torchvision.transforms.functional as F\n",
    "import scipy.io as sio\n",
    "import numpy as np\n",
    "import torch.nn as nn\n",
    "from pytorch_lightning import loggers as pl_loggers\n",
    "import pytorch_lightning as pl\n",
    "import torch.nn.utils.prune as prune\n",
    "import torchvision.transforms as transforms\n",
    "import scipy.io as sio\n",
    "import pandas as pd\n",
    "import seaborn as sns\n",
    "\n",
    "from torch.utils.data import Dataset\n",
    "from PIL import Image\n",
    "from time import time\n",
    "from  torch.utils.data import DataLoader\n",
    "import torchmetrics\n",
    "from sklearn.metrics import accuracy_score\n"
   ]
  },
  {
   "cell_type": "markdown",
   "metadata": {},
   "source": [
    "Secondly, we leverage the dataset loading function, and the Dataset class provided in the example."
   ]
  },
  {
   "cell_type": "code",
   "execution_count": 34,
   "metadata": {},
   "outputs": [],
   "source": [
    "def load_data(root_dir, split):\n",
    "    \"\"\"load_data Load images from the dataset\n",
    "\n",
    "    Args:\n",
    "        root_dir (string): root directory \n",
    "        split (string): type of split based on the task  \n",
    "\n",
    "    Returns:\n",
    "        tuple: set of images and lables\n",
    "    \"\"\"\n",
    "    \n",
    "    filename = os.path.join(root_dir,'test_32x32.mat')\n",
    "    if(split.startswith('train') or split.startswith('unlabelled')):\n",
    "        filename = os.path.join(root_dir,'train_32x32.mat') \n",
    "    elif(split.startswith('test')):\n",
    "        filename = os.path.join(root_dir,'test_32x32.mat')\n",
    "    \n",
    "    # Load matrix\n",
    "    loaded_mat = sio.loadmat(filename)\n",
    "    \n",
    "    # Parse images and normalize\n",
    "    imgs = (loaded_mat['X']/255).astype(np.float32)\n",
    "    \n",
    "    # Parse labels, convert to int and create vector\n",
    "    labels = loaded_mat['y'].astype(np.int64).squeeze()\n",
    "    \n",
    "    \n",
    "    if(split=='train_29_task2'):\n",
    "        imgs_idx_01 =  np.logical_or(labels==10,labels==1)\n",
    "        imgs_idx_29 = np.where(np.logical_not(imgs_idx_01))\n",
    "        imgs = imgs[:,:,:,imgs_idx_29]\n",
    "        labels = labels[imgs_idx_29]\n",
    "    elif(split=='test_01_task2' or split=='train_01_task2'):\n",
    "        imgs_idx_01 =  np.where(np.logical_or(labels==10,labels==1))[0]\n",
    "        if(split=='train_01_task2'):\n",
    "            imgs_idx_01 = imgs_idx_01[0:200]\n",
    "        else:\n",
    "            imgs_idx_01 = imgs_idx_01[200::]\n",
    "        imgs = imgs[:,:,:,imgs_idx_01]\n",
    "        labels = labels[imgs_idx_01]\n",
    "    if(split=='test_task3'):\n",
    "        N = 50\n",
    "        imgs = imgs[:,:,:,0:N]\n",
    "        labels = labels[0:N]\n",
    "    print('Loaded SVHN split: {split}'.format(split=split))\n",
    "    print('-------------------------------------')\n",
    "    print('Images Size: ' , imgs.shape[0:-1])\n",
    "    print('Split Number of Images:', imgs.shape[-1])\n",
    "    print('Split Labels Array Size:', labels.shape)\n",
    "    print('Possible Labels: ', np.unique(labels))\n",
    "    return imgs,labels\n",
    "\n",
    "def eval_model(model,loader):\n",
    "    model.eval()\n",
    "    y_pred_list, targets_list = [], []\n",
    "    for (imgs, targets) in  loader:\n",
    "        y_pred = model(imgs)\n",
    "        _,y_pred_label = torch.max(y_pred, dim=1)\n",
    "        y_pred_list += y_pred_label.detach().numpy().tolist()\n",
    "        targets_list += targets.detach().numpy().tolist()    \n",
    "    return(accuracy_score(targets_list, y_pred_list))\n",
    "\n",
    "\n",
    "class SVHNDataset(Dataset):\n",
    "    \"\"\"SVHNDataset SVHN Dataset class to parse images and targets\n",
    "\n",
    "    Args:\n",
    "        Dataset (Dataset): None\n",
    "    \"\"\"\n",
    "\n",
    "    def __init__(self, \n",
    "                 root_dir, \n",
    "                 split, \n",
    "                 transform=None):\n",
    "        self.images, self.labels = load_data(root_dir, split)\n",
    "        self.transform = transform\n",
    "        \n",
    "    def __len__(self):\n",
    "        return len(self.labels)\n",
    "\n",
    "    def __getitem__(self, index):\n",
    "        img, target = self.images[:,:,:,index], int(self.labels[index])\n",
    "        if self.transform:\n",
    "            img = self.transform(img)\n",
    "        return img, target-1 # target -1 assuming that there are no 0s"
   ]
  },
  {
   "cell_type": "markdown",
   "metadata": {},
   "source": [
    "### Task 1.1: Data Exploration\n",
    "\n",
    "Before diving into classification, we will visualize some of the images and understand how labels are distributed."
   ]
  },
  {
   "cell_type": "code",
   "execution_count": 35,
   "metadata": {},
   "outputs": [
    {
     "name": "stdout",
     "output_type": "stream",
     "text": [
      "Loaded SVHN split: test_01_task1\n",
      "-------------------------------------\n",
      "Images Size:  (32, 32, 3)\n",
      "Split Number of Images: 26032\n",
      "Split Labels Array Size: (26032,)\n",
      "Possible Labels:  [ 1  2  3  4  5  6  7  8  9 10]\n"
     ]
    },
    {
     "data": {
      "image/png": "[encoded data removed]",
      "text/plain": [
       "<Figure size 1440x720 with 18 Axes>"
      ]
     },
     "metadata": {
      "needs_background": "light"
     },
     "output_type": "display_data"
    }
   ],
   "source": [
    "def visualize_image(images, labels, index):\n",
    "    img = images[:,:,:,index]\n",
    "    label = labels[index]\n",
    "    plt.imshow((img))\n",
    "    plt.text(1, 3, 'Label: {label}'.format(label=label), c = 'red', fontsize= 20,\n",
    "             bbox=dict(fill=False, edgecolor='red', linewidth=2))\n",
    "    plt.axis('off')\n",
    "    \n",
    "\n",
    "plt.subplots(figsize=(20,10))\n",
    "split_images, split_labels = load_data('./data','test_01_task1')\n",
    "for idx, image_index in enumerate(np.random.randint(0, split_images.shape[-1], 18)):\n",
    "    plt.subplot(3,6,idx+1)\n",
    "    visualize_image(split_images,\n",
    "                split_labels,\n",
    "                image_index)\n",
    "plt.tight_layout()\n",
    "plt.show()"
   ]
  },
  {
   "cell_type": "markdown",
   "metadata": {},
   "source": [
    "Just from looking at the images, we see that some of the house numbers, despite having multiple numbers, have only one label. \n",
    "\n",
    "We will now look at the count of labels."
   ]
  },
  {
   "cell_type": "code",
   "execution_count": 36,
   "metadata": {},
   "outputs": [
    {
     "data": {
      "text/plain": [
       "Text(0, 0.5, 'Count')"
      ]
     },
     "execution_count": 36,
     "metadata": {},
     "output_type": "execute_result"
    },
    {
     "data": {
      "image/png": "[encoded data removed]",
      "text/plain": [
       "<Figure size 720x360 with 1 Axes>"
      ]
     },
     "metadata": {
      "needs_background": "light"
     },
     "output_type": "display_data"
    }
   ],
   "source": [
    "# Labels distribution\n",
    "%matplotlib inline \n",
    "fig, ax = plt.subplots(figsize=(10,5))\n",
    "unique_labels, count_labels = np.unique(split_labels, return_counts=True)\n",
    "sns.barplot(x=unique_labels, y=count_labels)\n",
    "ax.set_title(\"Label Count\")\n",
    "ax.set_xlabel(\"Label\")\n",
    "ax.set_ylabel(\"Count\")"
   ]
  },
  {
   "cell_type": "markdown",
   "metadata": {},
   "source": [
    "There is a clear inbalance of labels. This may affect the performance of the model, and thus will require additional accuracy reports to understand whether the model is biased to a specific set of labels or not."
   ]
  },
  {
   "cell_type": "markdown",
   "metadata": {},
   "source": [
    "### Task 1.2: Model Building\n",
    "\n",
    "Next, we build our model class called Marci. In this case, we have decided to continue recycling part of the code proposed in the example. Given the limitation to 200k parameters int he model, we have included a simple block of convolutional layers aimed at extracting spatial features from the images. The output of the convolutional block is flattened prior to be fed into the classifier part of the CNN. "
   ]
  },
  {
   "cell_type": "code",
   "execution_count": 37,
   "metadata": {},
   "outputs": [],
   "source": [
    "class Marci(pl.LightningModule):\n",
    "    def __init__(self, \n",
    "                 in_features, \n",
    "                 hidden_features, \n",
    "                 n_classes):\n",
    "        super().__init__()\n",
    "        self.conv1 = nn.Conv2d(3, 32, kernel_size=3)\n",
    "        self.conv2 = nn.Conv2d(32, 16, kernel_size=3)\n",
    "        self.conv3 = nn.Conv2d(16, 8, kernel_size=3)\n",
    "        self.conv4 = nn.Conv2d(8, 4, kernel_size=3)\n",
    "\n",
    "        self.layer1 = nn.Linear(24*24*4, hidden_features)\n",
    "        self.layer2 = nn.Linear(hidden_features, n_classes)\n",
    "        self.activation = nn.ReLU()\n",
    "        self.loss = nn.CrossEntropyLoss()\n",
    "        self.train_accuracy = torchmetrics.Accuracy()\n",
    "        self.val_accuracy = torchmetrics.Accuracy()\n",
    "        self.conf_matrix = torchmetrics.ConfusionMatrix(num_classes=n_classes)\n",
    "\n",
    "    def forward(self, x):\n",
    "        x_conv = self.conv1(x)\n",
    "        x_conv = self.conv2(x_conv)\n",
    "        x_conv = self.conv3(x_conv)\n",
    "        x_conv = self.conv4(x_conv)\n",
    "        \n",
    "        x_flat = torch.flatten(x_conv, start_dim=1)\n",
    "        h = self.activation(self.layer1(x_flat))\n",
    "        out = self.layer2(h)\n",
    "        return out\n",
    "    \n",
    "    def configure_optimizers(self):\n",
    "        optimizer = torch.optim.SGD(self.parameters(), lr=1e-2)\n",
    "        return optimizer\n",
    "    \n",
    "    def compute_step(self,batch):\n",
    "        imgs, labels = batch\n",
    "        # imgs = imgs.view(imgs.size(0), -1)\n",
    "        label_logits = self.forward(imgs)\n",
    "        _,label_predictions = torch.max(label_logits, dim=1 )\n",
    "        return self.loss(label_logits,labels), labels, label_predictions\n",
    "    \n",
    "    def training_step(self, train_batch, batch_idx):\n",
    "        loss, labels, label_predictions = self.compute_step(train_batch)\n",
    "        self.train_accuracy(label_predictions, labels)\n",
    "        self.log_dict({\"train/loss\": loss, 'train/acc' : self.train_accuracy}, \n",
    "                  on_step=False, \n",
    "                  on_epoch=True, \n",
    "                  prog_bar=True)\n",
    "        return loss\n",
    "    \n",
    "    def validation_step(self, val_batch, batch_idx):\n",
    "        loss, labels, label_predictions = self.compute_step(val_batch)\n",
    "        self.val_accuracy(label_predictions, labels)\n",
    "        self.log_dict({\"val/loss\": loss, 'val/acc' : self.val_accuracy}, \n",
    "                  on_step=False, \n",
    "                  on_epoch=True, \n",
    "                  prog_bar=True)\n",
    "        return loss\n",
    "    \n",
    "\n",
    "    def test_step(self, val_batch, batch_idx):\n",
    "        loss, labels, label_predictions = self.compute_step(val_batch)\n",
    "        self.val_accuracy(label_predictions, labels)\n",
    "        self.log_dict({\"val/loss\": loss, 'val/acc' : self.val_accuracy}, \n",
    "                  on_step=False, \n",
    "                  on_epoch=True, \n",
    "                  prog_bar=True)\n",
    "        return loss"
   ]
  },
  {
   "cell_type": "markdown",
   "metadata": {},
   "source": [
    "Now that our classes and functions are defined, we proceed to load the data and create the dataloaders."
   ]
  },
  {
   "cell_type": "code",
   "execution_count": 38,
   "metadata": {},
   "outputs": [
    {
     "name": "stdout",
     "output_type": "stream",
     "text": [
      "Loaded SVHN split: train_task1\n",
      "-------------------------------------\n",
      "Images Size:  (32, 32, 3)\n",
      "Split Number of Images: 73257\n",
      "Split Labels Array Size: (73257,)\n",
      "Possible Labels:  [ 1  2  3  4  5  6  7  8  9 10]\n",
      "Loaded SVHN split: test_task1\n",
      "-------------------------------------\n",
      "Images Size:  (32, 32, 3)\n",
      "Split Number of Images: 26032\n",
      "Split Labels Array Size: (26032,)\n",
      "Possible Labels:  [ 1  2  3  4  5  6  7  8  9 10]\n"
     ]
    }
   ],
   "source": [
    "# Create dataset\n",
    "train_data_ex1 = SVHNDataset('./data','train_task1',\n",
    "                            transform = transforms.ToTensor()\n",
    "                            )\n",
    "test_data_ex1 = SVHNDataset('./data','test_task1',\n",
    "                        transform = transforms.ToTensor())\n",
    "\n",
    "# Create Dataloader\n",
    "train_loader = DataLoader(train_data_ex1, batch_size=64, shuffle=True)\n",
    "test_loader = DataLoader(test_data_ex1, batch_size=64, shuffle=False)   \n"
   ]
  },
  {
   "cell_type": "markdown",
   "metadata": {},
   "source": [
    "### Task 1.3: Model Training\n",
    "\n",
    "Then, we instantiate our model and train it."
   ]
  },
  {
   "cell_type": "code",
   "execution_count": 39,
   "metadata": {},
   "outputs": [
    {
     "name": "stderr",
     "output_type": "stream",
     "text": [
      "GPU available: True, used: True\n",
      "TPU available: False, using: 0 TPU cores\n",
      "IPU available: False, using: 0 IPUs\n",
      "HPU available: False, using: 0 HPUs\n",
      "LOCAL_RANK: 0 - CUDA_VISIBLE_DEVICES: [0]\n",
      "\n",
      "   | Name           | Type             | Params\n",
      "-----------------------------------------------------\n",
      "0  | conv1          | Conv2d           | 896   \n",
      "1  | conv2          | Conv2d           | 4.6 K \n",
      "2  | conv3          | Conv2d           | 1.2 K \n",
      "3  | conv4          | Conv2d           | 292   \n",
      "4  | layer1         | Linear           | 147 K \n",
      "5  | layer2         | Linear           | 650   \n",
      "6  | activation     | ReLU             | 0     \n",
      "7  | loss           | CrossEntropyLoss | 0     \n",
      "8  | train_accuracy | Accuracy         | 0     \n",
      "9  | val_accuracy   | Accuracy         | 0     \n",
      "10 | conf_matrix    | ConfusionMatrix  | 0     \n",
      "-----------------------------------------------------\n",
      "155 K     Trainable params\n",
      "0         Non-trainable params\n",
      "155 K     Total params\n",
      "0.621     Total estimated model params size (MB)\n"
     ]
    },
    {
     "data": {
      "application/vnd.jupyter.widget-view+json": {
       "model_id": "198d39a1c6a24ca48fc34a4624f88277",
       "version_major": 2,
       "version_minor": 0
      },
      "text/plain": [
       "Sanity Checking: 0it [00:00, ?it/s]"
      ]
     },
     "metadata": {},
     "output_type": "display_data"
    },
    {
     "name": "stderr",
     "output_type": "stream",
     "text": [
      "/home/vicente/Documents/Other/SDCV_test/env/lib/python3.8/site-packages/pytorch_lightning/trainer/connectors/data_connector.py:240: PossibleUserWarning: The dataloader, val_dataloader 0, does not have many workers which may be a bottleneck. Consider increasing the value of the `num_workers` argument` (try 12 which is the number of cpus on this machine) in the `DataLoader` init to improve performance.\n",
      "  rank_zero_warn(\n",
      "/home/vicente/Documents/Other/SDCV_test/env/lib/python3.8/site-packages/pytorch_lightning/trainer/connectors/data_connector.py:240: PossibleUserWarning: The dataloader, train_dataloader, does not have many workers which may be a bottleneck. Consider increasing the value of the `num_workers` argument` (try 12 which is the number of cpus on this machine) in the `DataLoader` init to improve performance.\n",
      "  rank_zero_warn(\n"
     ]
    },
    {
     "data": {
      "application/vnd.jupyter.widget-view+json": {
       "model_id": "157c6abe38a84d7db5bffe93b2041e37",
       "version_major": 2,
       "version_minor": 0
      },
      "text/plain": [
       "Training: 0it [00:00, ?it/s]"
      ]
     },
     "metadata": {},
     "output_type": "display_data"
    },
    {
     "data": {
      "application/vnd.jupyter.widget-view+json": {
       "model_id": "904fd4052a8144dd99e574a33365bfea",
       "version_major": 2,
       "version_minor": 0
      },
      "text/plain": [
       "Validation: 0it [00:00, ?it/s]"
      ]
     },
     "metadata": {},
     "output_type": "display_data"
    },
    {
     "data": {
      "application/vnd.jupyter.widget-view+json": {
       "model_id": "21cb946f25f142b98545d303ef68e977",
       "version_major": 2,
       "version_minor": 0
      },
      "text/plain": [
       "Validation: 0it [00:00, ?it/s]"
      ]
     },
     "metadata": {},
     "output_type": "display_data"
    },
    {
     "data": {
      "application/vnd.jupyter.widget-view+json": {
       "model_id": "a95cc2785c46419e9e548cd092b599e1",
       "version_major": 2,
       "version_minor": 0
      },
      "text/plain": [
       "Validation: 0it [00:00, ?it/s]"
      ]
     },
     "metadata": {},
     "output_type": "display_data"
    },
    {
     "data": {
      "application/vnd.jupyter.widget-view+json": {
       "model_id": "2d745ec3a0ee4888b95f7e382e528d31",
       "version_major": 2,
       "version_minor": 0
      },
      "text/plain": [
       "Validation: 0it [00:00, ?it/s]"
      ]
     },
     "metadata": {},
     "output_type": "display_data"
    },
    {
     "data": {
      "application/vnd.jupyter.widget-view+json": {
       "model_id": "5d914964fbd643d6bc354336bd390b31",
       "version_major": 2,
       "version_minor": 0
      },
      "text/plain": [
       "Validation: 0it [00:00, ?it/s]"
      ]
     },
     "metadata": {},
     "output_type": "display_data"
    },
    {
     "data": {
      "application/vnd.jupyter.widget-view+json": {
       "model_id": "c8946ff3406749758b7ff76a8a0cd4ce",
       "version_major": 2,
       "version_minor": 0
      },
      "text/plain": [
       "Validation: 0it [00:00, ?it/s]"
      ]
     },
     "metadata": {},
     "output_type": "display_data"
    },
    {
     "data": {
      "application/vnd.jupyter.widget-view+json": {
       "model_id": "27adc2afe1774d9db7c6be170f3bd1a2",
       "version_major": 2,
       "version_minor": 0
      },
      "text/plain": [
       "Validation: 0it [00:00, ?it/s]"
      ]
     },
     "metadata": {},
     "output_type": "display_data"
    },
    {
     "data": {
      "application/vnd.jupyter.widget-view+json": {
       "model_id": "f287087ed953446a9e7a4287691fc4f2",
       "version_major": 2,
       "version_minor": 0
      },
      "text/plain": [
       "Validation: 0it [00:00, ?it/s]"
      ]
     },
     "metadata": {},
     "output_type": "display_data"
    },
    {
     "data": {
      "application/vnd.jupyter.widget-view+json": {
       "model_id": "25a69d29dbf24163896ee72a2b2ee467",
       "version_major": 2,
       "version_minor": 0
      },
      "text/plain": [
       "Validation: 0it [00:00, ?it/s]"
      ]
     },
     "metadata": {},
     "output_type": "display_data"
    },
    {
     "data": {
      "application/vnd.jupyter.widget-view+json": {
       "model_id": "c0264635ed234e53a7a3df0f38bc3d89",
       "version_major": 2,
       "version_minor": 0
      },
      "text/plain": [
       "Validation: 0it [00:00, ?it/s]"
      ]
     },
     "metadata": {},
     "output_type": "display_data"
    },
    {
     "data": {
      "application/vnd.jupyter.widget-view+json": {
       "model_id": "530ca813e1ce44819ca7d4b1c5c44443",
       "version_major": 2,
       "version_minor": 0
      },
      "text/plain": [
       "Validation: 0it [00:00, ?it/s]"
      ]
     },
     "metadata": {},
     "output_type": "display_data"
    },
    {
     "data": {
      "application/vnd.jupyter.widget-view+json": {
       "model_id": "86c1d08b8826431b9bf4ca8f6dce5233",
       "version_major": 2,
       "version_minor": 0
      },
      "text/plain": [
       "Validation: 0it [00:00, ?it/s]"
      ]
     },
     "metadata": {},
     "output_type": "display_data"
    },
    {
     "data": {
      "application/vnd.jupyter.widget-view+json": {
       "model_id": "74814f1dc3664337b301554d8e7ee61f",
       "version_major": 2,
       "version_minor": 0
      },
      "text/plain": [
       "Validation: 0it [00:00, ?it/s]"
      ]
     },
     "metadata": {},
     "output_type": "display_data"
    },
    {
     "data": {
      "application/vnd.jupyter.widget-view+json": {
       "model_id": "964e91e67b5546728b3117591d0a3f6c",
       "version_major": 2,
       "version_minor": 0
      },
      "text/plain": [
       "Validation: 0it [00:00, ?it/s]"
      ]
     },
     "metadata": {},
     "output_type": "display_data"
    },
    {
     "data": {
      "application/vnd.jupyter.widget-view+json": {
       "model_id": "42005a3927d2484ba6fd6d8008dc4970",
       "version_major": 2,
       "version_minor": 0
      },
      "text/plain": [
       "Validation: 0it [00:00, ?it/s]"
      ]
     },
     "metadata": {},
     "output_type": "display_data"
    }
   ],
   "source": [
    "# Init\n",
    "hidden_features = 64\n",
    "n_classes = 10 \n",
    "\n",
    "# Create model\n",
    "model = Marci(0, hidden_features, n_classes)\n",
    "\n",
    "# Train model\n",
    "tb_logger = pl_loggers.TensorBoardLogger(\"./logs/\")\n",
    "trainer = pl.Trainer(gpus=1,max_epochs=15,logger = tb_logger)\n",
    "trainer.fit(model, train_loader, test_loader)"
   ]
  },
  {
   "cell_type": "markdown",
   "metadata": {},
   "source": [
    "As we can see, the test accuracy has improve by ~20% just by adding a simple convolutional block, reaching a 82.5% of accuracy, while respecting the parameter constraint imposed by the assignment. Like most convolutional models, most parameters belong to the pre-classifier (layer1). \n",
    "\n",
    "### Task 1.4: Model Evaluation\n",
    "\n",
    "We will not evaluate the individual accuracy of each class by looking at the confusion matrix."
   ]
  },
  {
   "cell_type": "code",
   "execution_count": 40,
   "metadata": {},
   "outputs": [],
   "source": [
    "def eval_model_confmat(model,loader):\n",
    "    model.eval()\n",
    "    y_pred_list, targets_list = [], []\n",
    "    for (imgs, targets) in  loader:\n",
    "        y_pred = model(imgs)\n",
    "        _,y_pred_label = torch.max(y_pred, dim=1)\n",
    "        y_pred_list += y_pred_label.detach().numpy().tolist()\n",
    "        targets_list += targets.detach().numpy().tolist()  \n",
    "        \n",
    "    \n",
    "    confmat = torchmetrics.ConfusionMatrix(num_classes=10)\n",
    "    confmat_res = confmat(torch.IntTensor(targets_list), torch.IntTensor(y_pred_list))\n",
    "    confmat_res_prop = confmat_res / torch.sum(confmat_res, dim=1)\n",
    "\n",
    "    confmat_res = confmat_res.detach().numpy()\n",
    "    confmat_res_prop = confmat_res_prop.detach().numpy()  \n",
    "\n",
    "    return(confmat_res, confmat_res_prop)\n",
    "\n",
    "confmat_res, confmat_res_prop = eval_model_confmat(model, test_loader)"
   ]
  },
  {
   "cell_type": "markdown",
   "metadata": {},
   "source": [
    "Finally, we plot the confusion matrix."
   ]
  },
  {
   "cell_type": "code",
   "execution_count": 41,
   "metadata": {},
   "outputs": [
    {
     "data": {
      "image/png": "[encoded data removed]",
      "text/plain": [
       "<Figure size 1080x720 with 2 Axes>"
      ]
     },
     "metadata": {
      "needs_background": "light"
     },
     "output_type": "display_data"
    },
    {
     "name": "stdout",
     "output_type": "stream",
     "text": [
      "Mean accuracy: 0.815 ± 0.046\n"
     ]
    }
   ],
   "source": [
    "# Create dataframe\n",
    "cm = pd.DataFrame(confmat_res_prop,\n",
    "                     index = np.arange(0,10), \n",
    "                     columns = np.arange(0,10))\n",
    "\n",
    "plt.figure(figsize=(15,10))\n",
    "sns.heatmap(cm, annot=True, fmt='.3g')\n",
    "plt.title('Confusion Matrix')\n",
    "plt.ylabel('Actal Values')\n",
    "plt.xlabel('Predicted Values')\n",
    "plt.show()\n",
    "\n",
    "# Print\n",
    "print(\"Mean accuracy: {:.3f} ± {:.3f}\".format(np.mean(np.diagonal(confmat_res_prop)), np.std(np.diagonal(confmat_res_prop))))\n",
    "\n"
   ]
  },
  {
   "cell_type": "markdown",
   "metadata": {},
   "source": [
    "Global accuracy is decreased by a few values, yet remains above 80%. Given the similarity between the confusion matrix and the accuracy metric, it seems that the latter can be used as a proxy for model performance."
   ]
  },
  {
   "cell_type": "markdown",
   "metadata": {},
   "source": [
    "### Task 1.5: Alternative solution  \n",
    "Given that the main constraint of this task is that the model must have less than 200k parameters, an alternative option would be to train a larger model and prune it to reach the desired number of parameters. In the following solution, we implemented a larger model that we called Ellie, which replaced the convolutional layers of Marci with three ResNet convolutional blocks (without adding between blocks). "
   ]
  },
  {
   "cell_type": "code",
   "execution_count": 42,
   "metadata": {},
   "outputs": [],
   "source": [
    "class Ellie(pl.LightningModule):\n",
    "    \n",
    "    class ConvBloc(nn.Sequential):\n",
    "        \n",
    "        def __init__(self, in_channels, out_channels):\n",
    "            super().__init__()\n",
    "            self.block = nn.Sequential(\n",
    "            nn.Conv2d(in_channels=in_channels, out_channels=out_channels, kernel_size=3, padding=1, stride=1, bias=False),\n",
    "            nn.BatchNorm2d(out_channels),\n",
    "            nn.ReLU(),\n",
    "            nn.Conv2d(in_channels=out_channels, out_channels=out_channels, kernel_size=3, padding=1, stride=1, bias=False),\n",
    "            nn.BatchNorm2d(out_channels))\n",
    "    \n",
    "    def __init__(self, in_features, hidden_features, n_classes):\n",
    "        super().__init__()\n",
    "        self.block1 = self.ConvBloc(3, 16)\n",
    "        self.block2 = self.ConvBloc(16,32)\n",
    "        self.block3 = self.ConvBloc(32,64)\n",
    "        self.layer1 = nn.Linear(65536, hidden_features)\n",
    "        self.layer2 = nn.Linear(hidden_features, n_classes)\n",
    "        self.activation = nn.ReLU()\n",
    "        self.dropout = nn.Dropout(0.3)\n",
    "        self.loss = nn.CrossEntropyLoss()\n",
    "        self.train_accuracy = torchmetrics.Accuracy()\n",
    "        self.val_accuracy = torchmetrics.Accuracy()\n",
    "\n",
    "    def forward(self, x):\n",
    "        hb1 = self.dropout(self.block1(x))\n",
    "        hb2 = self.dropout(self.block2(hb1))\n",
    "        hb3 = self.dropout(self.block3(hb2))\n",
    "        h = torch.flatten(hb3, start_dim=1)\n",
    "        h = self.activation(self.layer1(h))\n",
    "        out = self.layer2(h)\n",
    "        out = out\n",
    "        return out\n",
    "    \n",
    "    def configure_optimizers(self):\n",
    "        optimizer = torch.optim.SGD(self.parameters(), lr=5e-3)\n",
    "        return optimizer\n",
    "    \n",
    "    def compute_step(self,batch):\n",
    "        imgs, labels = batch\n",
    "        # imgs = imgs.view(imgs.size(0), -1)\n",
    "        label_logits = self.forward(imgs)\n",
    "        _,label_predictions = torch.max(label_logits, dim=1 )\n",
    "        return self.loss(label_logits,labels), labels, label_predictions\n",
    "    \n",
    "    def training_step(self, train_batch, batch_idx):\n",
    "        loss, labels, label_predictions = self.compute_step(train_batch)\n",
    "        self.train_accuracy(label_predictions, labels)\n",
    "        self.log_dict({\"train/loss\": loss, 'train/acc' : self.train_accuracy}, \n",
    "                  on_step=False, \n",
    "                  on_epoch=True, \n",
    "                  prog_bar=True)\n",
    "        return loss\n",
    "    \n",
    "    def validation_step(self, val_batch, batch_idx):\n",
    "        loss, labels, label_predictions = self.compute_step(val_batch)\n",
    "        self.val_accuracy(label_predictions, labels)\n",
    "        self.log_dict({\"val/loss\": loss, 'val/acc' : self.val_accuracy}, \n",
    "                  on_step=False, \n",
    "                  on_epoch=True, \n",
    "                  prog_bar=True)\n",
    "        return loss\n",
    "\n",
    "    def test_step(self, val_batch, batch_idx):\n",
    "        loss, labels, label_predictions = self.compute_step(val_batch)\n",
    "        self.val_accuracy(label_predictions, labels)\n",
    "        self.log_dict({\"val/loss\": loss, 'val/acc' : self.val_accuracy}, \n",
    "                  on_step=False, \n",
    "                  on_epoch=True, \n",
    "                  prog_bar=True)\n",
    "        return loss\n"
   ]
  },
  {
   "cell_type": "markdown",
   "metadata": {},
   "source": [
    "We proceed to train the model similarly to the previous one. We will also get the weights of the pre-classifier to compare after prunning."
   ]
  },
  {
   "cell_type": "code",
   "execution_count": 43,
   "metadata": {},
   "outputs": [
    {
     "name": "stderr",
     "output_type": "stream",
     "text": [
      "GPU available: True, used: True\n",
      "TPU available: False, using: 0 TPU cores\n",
      "IPU available: False, using: 0 IPUs\n",
      "HPU available: False, using: 0 HPUs\n",
      "LOCAL_RANK: 0 - CUDA_VISIBLE_DEVICES: [0]\n",
      "\n",
      "  | Name           | Type             | Params\n",
      "----------------------------------------------------\n",
      "0 | block1         | ConvBloc         | 2.8 K \n",
      "1 | block2         | ConvBloc         | 14.0 K\n",
      "2 | block3         | ConvBloc         | 55.6 K\n",
      "3 | layer1         | Linear           | 4.2 M \n",
      "4 | layer2         | Linear           | 650   \n",
      "5 | activation     | ReLU             | 0     \n",
      "6 | dropout        | Dropout          | 0     \n",
      "7 | loss           | CrossEntropyLoss | 0     \n",
      "8 | train_accuracy | Accuracy         | 0     \n",
      "9 | val_accuracy   | Accuracy         | 0     \n",
      "----------------------------------------------------\n",
      "4.3 M     Trainable params\n",
      "0         Non-trainable params\n",
      "4.3 M     Total params\n",
      "17.069    Total estimated model params size (MB)\n"
     ]
    },
    {
     "data": {
      "application/vnd.jupyter.widget-view+json": {
       "model_id": "088c67aa7d3b4f7b80e0ac4a27e24af3",
       "version_major": 2,
       "version_minor": 0
      },
      "text/plain": [
       "Sanity Checking: 0it [00:00, ?it/s]"
      ]
     },
     "metadata": {},
     "output_type": "display_data"
    },
    {
     "name": "stderr",
     "output_type": "stream",
     "text": [
      "/home/vicente/Documents/Other/SDCV_test/env/lib/python3.8/site-packages/pytorch_lightning/trainer/connectors/data_connector.py:240: PossibleUserWarning: The dataloader, val_dataloader 0, does not have many workers which may be a bottleneck. Consider increasing the value of the `num_workers` argument` (try 12 which is the number of cpus on this machine) in the `DataLoader` init to improve performance.\n",
      "  rank_zero_warn(\n",
      "/home/vicente/Documents/Other/SDCV_test/env/lib/python3.8/site-packages/pytorch_lightning/trainer/connectors/data_connector.py:240: PossibleUserWarning: The dataloader, train_dataloader, does not have many workers which may be a bottleneck. Consider increasing the value of the `num_workers` argument` (try 12 which is the number of cpus on this machine) in the `DataLoader` init to improve performance.\n",
      "  rank_zero_warn(\n"
     ]
    },
    {
     "data": {
      "application/vnd.jupyter.widget-view+json": {
       "model_id": "07e7669ad7a64e9796347fe3e93548c9",
       "version_major": 2,
       "version_minor": 0
      },
      "text/plain": [
       "Training: 0it [00:00, ?it/s]"
      ]
     },
     "metadata": {},
     "output_type": "display_data"
    },
    {
     "data": {
      "application/vnd.jupyter.widget-view+json": {
       "model_id": "b950b5799e7b464ea5ee69728e050637",
       "version_major": 2,
       "version_minor": 0
      },
      "text/plain": [
       "Validation: 0it [00:00, ?it/s]"
      ]
     },
     "metadata": {},
     "output_type": "display_data"
    },
    {
     "data": {
      "application/vnd.jupyter.widget-view+json": {
       "model_id": "196fc85798664a3084e1ba412ca87f34",
       "version_major": 2,
       "version_minor": 0
      },
      "text/plain": [
       "Validation: 0it [00:00, ?it/s]"
      ]
     },
     "metadata": {},
     "output_type": "display_data"
    },
    {
     "data": {
      "application/vnd.jupyter.widget-view+json": {
       "model_id": "5434931747034dcfbb17170c0dba79a5",
       "version_major": 2,
       "version_minor": 0
      },
      "text/plain": [
       "Validation: 0it [00:00, ?it/s]"
      ]
     },
     "metadata": {},
     "output_type": "display_data"
    },
    {
     "data": {
      "application/vnd.jupyter.widget-view+json": {
       "model_id": "9fded9d3f42a419f981a4f4b30ff17c1",
       "version_major": 2,
       "version_minor": 0
      },
      "text/plain": [
       "Validation: 0it [00:00, ?it/s]"
      ]
     },
     "metadata": {},
     "output_type": "display_data"
    },
    {
     "data": {
      "application/vnd.jupyter.widget-view+json": {
       "model_id": "1521f17d537a4ed3ad4b580d14a00f92",
       "version_major": 2,
       "version_minor": 0
      },
      "text/plain": [
       "Validation: 0it [00:00, ?it/s]"
      ]
     },
     "metadata": {},
     "output_type": "display_data"
    },
    {
     "data": {
      "application/vnd.jupyter.widget-view+json": {
       "model_id": "adf5057015ce489eab0eecf2211c02fb",
       "version_major": 2,
       "version_minor": 0
      },
      "text/plain": [
       "Validation: 0it [00:00, ?it/s]"
      ]
     },
     "metadata": {},
     "output_type": "display_data"
    },
    {
     "data": {
      "application/vnd.jupyter.widget-view+json": {
       "model_id": "17e7cc589f374a3d86c75b5a52e0a30f",
       "version_major": 2,
       "version_minor": 0
      },
      "text/plain": [
       "Validation: 0it [00:00, ?it/s]"
      ]
     },
     "metadata": {},
     "output_type": "display_data"
    },
    {
     "data": {
      "application/vnd.jupyter.widget-view+json": {
       "model_id": "2d039008da7843cb89d84b96cdd2697c",
       "version_major": 2,
       "version_minor": 0
      },
      "text/plain": [
       "Validation: 0it [00:00, ?it/s]"
      ]
     },
     "metadata": {},
     "output_type": "display_data"
    },
    {
     "data": {
      "application/vnd.jupyter.widget-view+json": {
       "model_id": "5fb59f5c966c42268e1fd2229c0703ca",
       "version_major": 2,
       "version_minor": 0
      },
      "text/plain": [
       "Validation: 0it [00:00, ?it/s]"
      ]
     },
     "metadata": {},
     "output_type": "display_data"
    },
    {
     "data": {
      "application/vnd.jupyter.widget-view+json": {
       "model_id": "7aa8140f716a49608d721ff6092976a2",
       "version_major": 2,
       "version_minor": 0
      },
      "text/plain": [
       "Validation: 0it [00:00, ?it/s]"
      ]
     },
     "metadata": {},
     "output_type": "display_data"
    },
    {
     "ename": "",
     "evalue": "",
     "output_type": "error",
     "traceback": [
      "\u001b[1;31mThe Kernel crashed while executing code in the the current cell or a previous cell. Please review the code in the cell(s) to identify a possible cause of the failure. Click <a href='https://aka.ms/vscodeJupyterKernelCrash'>here</a> for more info. View Jupyter <a href='command:jupyter.viewOutput'>log</a> for further details."
     ]
    }
   ],
   "source": [
    "# Create model\n",
    "model_ellie = Ellie(0,\n",
    "            hidden_features,\n",
    "            n_classes)\n",
    "\n",
    "# Train model\n",
    "tb_logger = pl_loggers.TensorBoardLogger(\"./logs/\")\n",
    "trainer = pl.Trainer(gpus=1,max_epochs=10,logger = tb_logger)\n",
    "trainer.fit(model_ellie, \n",
    "        train_loader, \n",
    "        test_loader)\n",
    "\n",
    "ellie_weights = model_ellie.layer1.weight"
   ]
  },
  {
   "cell_type": "markdown",
   "metadata": {},
   "source": [
    "This model achieves a much superior accuracy, reaching around 90% in the validation test. Now, in order to meet the proposed constraints, we globally prune the models' paremeter and evaluate with the test set. We exclude the last linear layer of the model for prunning."
   ]
  },
  {
   "cell_type": "code",
   "execution_count": 34,
   "metadata": {},
   "outputs": [
    {
     "name": "stdout",
     "output_type": "stream",
     "text": [
      "Test accuracy after prunning: 0.917\n"
     ]
    }
   ],
   "source": [
    "# Prune model \n",
    "parameters_to_prune = (\n",
    "    (model_ellie.block1[0][0], 'weight'),\n",
    "    (model_ellie.block1[0][3], 'weight'),\n",
    "    (model_ellie.block2[0][0], 'weight'),\n",
    "    (model_ellie.block2[0][3], 'weight'),\n",
    "    (model_ellie.block3[0][0], 'weight'),\n",
    "    (model_ellie.block3[0][3], 'weight'),\n",
    "    (model_ellie.layer1, 'weight')\n",
    ")\n",
    "\n",
    "prune.global_unstructured(\n",
    "    parameters_to_prune,\n",
    "    pruning_method=prune.L1Unstructured,\n",
    "    amount=0.9527)\n",
    "\n",
    "# Evaluate pruned model\n",
    "model_acc = eval_model(model_ellie, test_loader)\n",
    "print(\"Test accuracy after prunning: {:.3f}\".format(model_acc))\n",
    "\n",
    "# Get model weights\n",
    "ellie_weights_pruned = model_ellie.layer1.weight\n"
   ]
  },
  {
   "cell_type": "markdown",
   "metadata": {},
   "source": [
    "Now, we will compare the histogram function of the pre-classifier's parameters before and after prunning."
   ]
  },
  {
   "cell_type": "code",
   "execution_count": 91,
   "metadata": {},
   "outputs": [
    {
     "data": {
      "text/plain": [
       "Text(0.5, 0, 'Layer Weight')"
      ]
     },
     "execution_count": 91,
     "metadata": {},
     "output_type": "execute_result"
    },
    {
     "data": {
      "image/png": "[encoded data removed]",
      "text/plain": [
       "<Figure size 720x720 with 2 Axes>"
      ]
     },
     "metadata": {
      "needs_background": "light"
     },
     "output_type": "display_data"
    }
   ],
   "source": [
    "# Create dataframe \n",
    "weights_df = pd.DataFrame({'ellie':ellie_weights.detach().numpy().flatten(), 'ellie_pruned':ellie_weights_pruned.detach().numpy().flatten()})\n",
    "\n",
    "# Plot\n",
    "%matplotlib inline \n",
    "fig, axes = plt.subplots(nrows=1, ncols=2, figsize=(10,10))\n",
    "sns.histplot(weights_df, x='ellie', ax=axes[0])\n",
    "axes[0].set_title(\"Ellie\")\n",
    "axes[0].set_xlabel(\"Layer Weight\")\n",
    "sns.histplot(weights_df, x='ellie_pruned', ax=axes[1])\n",
    "axes[1].set_title(\"Ellie Pruned\")\n",
    "axes[1].set_xlabel(\"Layer Weight\")\n"
   ]
  },
  {
   "cell_type": "markdown",
   "metadata": {},
   "source": [
    "Clearly, the large majority of weights in the pre-classifier have been set to 0, while maintaining a classification accuracy over 90%. \n",
    "\n",
    "\n",
    "**Note:** This was the first solution developed, however given that pruning does not reduce the size of the CNN and just sets its weights to 0, it was decided to provide a simpler solution that strictly respected the task's constraints (Marci). Unfortunately, neither Pytorch nor Tensorflow have a functional prunning system that reduces the size of the neural network, and seems to be mostly focused on researching the impact of pruning in Neural Networks. Noticeable, although most weights of Ellie have been set to 0, the model performance is seemingly intact. Lookint at the pre-classifier after pruning, the model performance may be improved by substantially reducing the input size to the pre-classifier (either by adding convolutional layers with larger stride, or reducing the number of output channels).\n",
    "\n",
    "### Conclusions:\n",
    "\n",
    "Just adding a few convolutional layers to the MLP, has significantly improved the classification accuracy of the system. Nonetheless, the parameter size constraint limits the possibility to larger and more accurate networks. A suggested solution is to train a larger network, and prune it to reduce the number of parameters. This is, however, tricky, given that although in theory parameters are \"removed\", the reality is that layers' weight are set to 0. Thus, the size and computational time of the model is the same as un-pruned. \n",
    "\n",
    "There are a few things, that while they have not been included, they may improve the model's performance:\n",
    "- **Image normalization:** normalizing images to a mean of 0 and standard deviation of 1 has shown significant improvements in classification tasks using datasets like ImageNet (instead to normalizing values between 0 and 1 like this task by dividing by 255). Though, this would require to compute the mean and standard deviation of the whole dataset. \n",
    "- **Image augmentation:** no dataset augmentation method has been implemented in this case, given the robustness of the model. However, given the enormous variability of images, it may have improved classification. "
   ]
  },
  {
   "cell_type": "markdown",
   "metadata": {},
   "source": [
    "# Task 2\n",
    "\n",
    "In this task, we are given three sets of data. \n",
    "1. A large training set containing labels from 2 to 9.\n",
    "2. A small training set containing binary labels (0 and 1).\n",
    "3. A small test set containing binary labels. \n",
    "\n",
    "The purpose of this task is to design a model that accurately classifies the small test dataset. Given the description of the datasets, the most adequate solution would be to apply Transfer Learning. That is, training the model in the large and small training set, allowing the network to learn to extract features from data. Then, modify the last layer of the model to classify binary data, and fine-tune with the small binary training set. "
   ]
  },
  {
   "cell_type": "markdown",
   "metadata": {},
   "source": [
    "### Task 2.1: Data Loading\n",
    "\n",
    "First, let's look at the data. For this task, we have slighlty modified the SVHNDataset class."
   ]
  },
  {
   "cell_type": "code",
   "execution_count": 20,
   "metadata": {},
   "outputs": [],
   "source": [
    "class SVHNDataset(Dataset):\n",
    "    \"\"\"SVHNDataset SVHN Dataset class to parse images and targets\n",
    "\n",
    "    Args:\n",
    "        Dataset (Dataset): None\n",
    "    \"\"\"\n",
    "\n",
    "    # We modified __init__ \n",
    "    def __init__(self, root_dir:str=None, split:str=None, images=None, labels=None, transform=None, binary=False):\n",
    "        if images is not None and labels is not None:\n",
    "            self.images, self.labels = images, labels\n",
    "        elif root_dir is not None and split is not None:\n",
    "            self.images, self.labels = load_data(root_dir, split)\n",
    "        else:\n",
    "            raise Exception(\"Either a root directory and a split, or an array of images and labels must be provided.\")\n",
    "        self.transform = transform\n",
    "        self.binary = binary\n",
    "        \n",
    "    def __len__(self):\n",
    "        return len(self.labels)\n",
    "\n",
    "    def __getitem__(self, index):\n",
    "        img, target = self.images[:,:,:,index], int(self.labels[index])\n",
    "        if self.transform:\n",
    "            img = self.transform(img)\n",
    "        if self.binary:\n",
    "            return img, target\n",
    "        else:\n",
    "            return img, target-1 # target -1 assuming that there are no 0s"
   ]
  },
  {
   "cell_type": "code",
   "execution_count": 21,
   "metadata": {},
   "outputs": [
    {
     "name": "stdout",
     "output_type": "stream",
     "text": [
      "Loaded SVHN split: train_29_task2\n",
      "-------------------------------------\n",
      "Images Size:  (32, 32, 3, 1)\n",
      "Split Number of Images: 54448\n",
      "Split Labels Array Size: (54448,)\n",
      "Possible Labels:  [2 3 4 5 6 7 8 9]\n",
      "Loaded SVHN split: train_01_task2\n",
      "-------------------------------------\n",
      "Images Size:  (32, 32, 3)\n",
      "Split Number of Images: 200\n",
      "Split Labels Array Size: (200,)\n",
      "Possible Labels:  [ 1 10]\n"
     ]
    }
   ],
   "source": [
    "# Looad training datasets\n",
    "train_29_imgs, train_29_labels = load_data('./data','train_29_task2')\n",
    "train_01_imgs, train_01_labels = load_data('./data','train_01_task2')\n",
    "\n",
    "# Remove dimension in train29\n",
    "train_29_imgs = train_29_imgs[:,:,:,0,:]\n",
    "\n",
    "# Concat training set\n",
    "train_imgs_concat = np.concatenate((train_29_imgs, train_01_imgs), axis=3)\n",
    "train_labels_concat = np.concatenate((train_29_labels, train_01_labels), axis=0)\n",
    "\n",
    "# Create datasets\n",
    "train_concat_data = SVHNDataset(images=train_imgs_concat, labels=train_labels_concat, transform = transforms.ToTensor())\n",
    "\n",
    "# Create Dataloader\n",
    "train_concat_loader = DataLoader(train_concat_data, batch_size=64, shuffle=True)"
   ]
  },
  {
   "cell_type": "markdown",
   "metadata": {},
   "source": [
    "Clearly, the 200 samples of the binary training set are insufficient to train a Neural Network. This supports our decision of utilizing Transfer Learning."
   ]
  },
  {
   "cell_type": "markdown",
   "metadata": {},
   "source": [
    "### Task 2.2: Model Training.\n",
    "\n",
    "We proceed to train the model. We will use the same one as proposed in Task 1. For this part of the training, out objective is to overfit the model to the training data, and won't be evaluating the test set."
   ]
  },
  {
   "cell_type": "code",
   "execution_count": 22,
   "metadata": {},
   "outputs": [
    {
     "name": "stderr",
     "output_type": "stream",
     "text": [
      "GPU available: True, used: True\n",
      "TPU available: False, using: 0 TPU cores\n",
      "IPU available: False, using: 0 IPUs\n",
      "HPU available: False, using: 0 HPUs\n",
      "/home/vicente/Documents/Other/SDCV_test/env/lib/python3.8/site-packages/pytorch_lightning/trainer/configuration_validator.py:133: UserWarning: You defined a `validation_step` but have no `val_dataloader`. Skipping val loop.\n",
      "  rank_zero_warn(\"You defined a `validation_step` but have no `val_dataloader`. Skipping val loop.\")\n",
      "LOCAL_RANK: 0 - CUDA_VISIBLE_DEVICES: [0]\n",
      "\n",
      "   | Name           | Type             | Params\n",
      "-----------------------------------------------------\n",
      "0  | conv1          | Conv2d           | 896   \n",
      "1  | conv2          | Conv2d           | 4.6 K \n",
      "2  | conv3          | Conv2d           | 1.2 K \n",
      "3  | conv4          | Conv2d           | 292   \n",
      "4  | layer1         | Linear           | 147 K \n",
      "5  | layer2         | Linear           | 650   \n",
      "6  | activation     | ReLU             | 0     \n",
      "7  | loss           | CrossEntropyLoss | 0     \n",
      "8  | train_accuracy | Accuracy         | 0     \n",
      "9  | val_accuracy   | Accuracy         | 0     \n",
      "10 | conf_matrix    | ConfusionMatrix  | 0     \n",
      "-----------------------------------------------------\n",
      "155 K     Trainable params\n",
      "0         Non-trainable params\n",
      "155 K     Total params\n",
      "0.621     Total estimated model params size (MB)\n",
      "/home/vicente/Documents/Other/SDCV_test/env/lib/python3.8/site-packages/pytorch_lightning/trainer/connectors/data_connector.py:240: PossibleUserWarning: The dataloader, train_dataloader, does not have many workers which may be a bottleneck. Consider increasing the value of the `num_workers` argument` (try 12 which is the number of cpus on this machine) in the `DataLoader` init to improve performance.\n",
      "  rank_zero_warn(\n"
     ]
    },
    {
     "data": {
      "application/vnd.jupyter.widget-view+json": {
       "model_id": "82c485e9dc764b5899c8193ae2fa37dd",
       "version_major": 2,
       "version_minor": 0
      },
      "text/plain": [
       "Training: 0it [00:00, ?it/s]"
      ]
     },
     "metadata": {},
     "output_type": "display_data"
    }
   ],
   "source": [
    " # Init\n",
    "hidden_features = 64\n",
    "n_classes = 10 \n",
    "\n",
    "# Create model for training concatenated dataset\n",
    "model_concat = Marci(0, hidden_features, n_classes)\n",
    "\n",
    "# Train model\n",
    "tb_logger = pl_loggers.TensorBoardLogger(\"./logs_task2/concat/\")\n",
    "trainer = pl.Trainer(gpus=1,max_epochs=10, logger=tb_logger)\n",
    "trainer.fit(model_concat, train_concat_loader)"
   ]
  },
  {
   "cell_type": "markdown",
   "metadata": {},
   "source": [
    "Like in Task 1, the model seems to be performing correctly, with a training accuracy of ~84%. "
   ]
  },
  {
   "cell_type": "markdown",
   "metadata": {},
   "source": [
    "### Task 2.3: Transfer Learning and fine-tuning.\n",
    "\n",
    "With our model overfit, and capable of extracting features from images, we modify the classifier layer and add a Sigmoid activation to allow for a binary classification paradigm."
   ]
  },
  {
   "cell_type": "code",
   "execution_count": 25,
   "metadata": {},
   "outputs": [
    {
     "name": "stdout",
     "output_type": "stream",
     "text": [
      "Loaded SVHN split: train_01_task2\n",
      "-------------------------------------\n",
      "Images Size:  (32, 32, 3)\n",
      "Split Number of Images: 200\n",
      "Split Labels Array Size: (200,)\n",
      "Possible Labels:  [ 1 10]\n",
      "Loaded SVHN split: test_01_task2\n",
      "-------------------------------------\n",
      "Images Size:  (32, 32, 3)\n",
      "Split Number of Images: 6643\n",
      "Split Labels Array Size: (6643,)\n",
      "Possible Labels:  [ 1 10]\n"
     ]
    }
   ],
   "source": [
    "# Reload data \n",
    "train_01_imgs, train_01_labels = load_data('./data','train_01_task2')\n",
    "test_01_imgs, test_01_labels = load_data('./data', 'test_01_task2')\n",
    "\n",
    "# Binarize\n",
    "le = sklearn.preprocessing.LabelEncoder()\n",
    "le = le.fit(np.concatenate((test_01_labels, train_01_labels)))\n",
    "train_01_labels, test_01_labels = le.transform(train_01_labels), le.transform(test_01_labels)\n",
    "\n",
    "# Datatest and dataloader\n",
    "train01_data = SVHNDataset(images=train_01_imgs, labels=train_01_labels, transform = transforms.ToTensor(), binary=True)\n",
    "test_data = SVHNDataset(images=test_01_imgs, labels=test_01_labels, transform = transforms.ToTensor(), binary=True)\n",
    "train01_loader = DataLoader(train01_data, batch_size=64, shuffle=True)\n",
    "test_loader = DataLoader(test_data, batch_size=64, shuffle=False)   \n",
    "\n",
    "# Modify last layer of the model \n",
    "model =  copy.deepcopy(model_concat)\n",
    "model.layer2 = nn.Sequential(nn.Linear(hidden_features, 2), nn.Sigmoid())\n",
    "    "
   ]
  },
  {
   "cell_type": "markdown",
   "metadata": {},
   "source": [
    "And we train it!"
   ]
  },
  {
   "cell_type": "code",
   "execution_count": 28,
   "metadata": {},
   "outputs": [
    {
     "name": "stderr",
     "output_type": "stream",
     "text": [
      "GPU available: True, used: True\n",
      "TPU available: False, using: 0 TPU cores\n",
      "IPU available: False, using: 0 IPUs\n",
      "HPU available: False, using: 0 HPUs\n",
      "LOCAL_RANK: 0 - CUDA_VISIBLE_DEVICES: [0]\n",
      "\n",
      "   | Name           | Type             | Params\n",
      "-----------------------------------------------------\n",
      "0  | conv1          | Conv2d           | 896   \n",
      "1  | conv2          | Conv2d           | 4.6 K \n",
      "2  | conv3          | Conv2d           | 1.2 K \n",
      "3  | conv4          | Conv2d           | 292   \n",
      "4  | layer1         | Linear           | 147 K \n",
      "5  | layer2         | Sequential       | 130   \n",
      "6  | activation     | ReLU             | 0     \n",
      "7  | loss           | CrossEntropyLoss | 0     \n",
      "8  | train_accuracy | Accuracy         | 0     \n",
      "9  | val_accuracy   | Accuracy         | 0     \n",
      "10 | conf_matrix    | ConfusionMatrix  | 0     \n",
      "-----------------------------------------------------\n",
      "154 K     Trainable params\n",
      "0         Non-trainable params\n",
      "154 K     Total params\n",
      "0.618     Total estimated model params size (MB)\n"
     ]
    },
    {
     "data": {
      "application/vnd.jupyter.widget-view+json": {
       "model_id": "1bffa8b915984099ba19341528fcd4f7",
       "version_major": 2,
       "version_minor": 0
      },
      "text/plain": [
       "Sanity Checking: 0it [00:00, ?it/s]"
      ]
     },
     "metadata": {},
     "output_type": "display_data"
    },
    {
     "name": "stderr",
     "output_type": "stream",
     "text": [
      "/home/vicente/Documents/Other/SDCV_test/env/lib/python3.8/site-packages/pytorch_lightning/trainer/connectors/data_connector.py:240: PossibleUserWarning: The dataloader, val_dataloader 0, does not have many workers which may be a bottleneck. Consider increasing the value of the `num_workers` argument` (try 12 which is the number of cpus on this machine) in the `DataLoader` init to improve performance.\n",
      "  rank_zero_warn(\n",
      "/home/vicente/Documents/Other/SDCV_test/env/lib/python3.8/site-packages/pytorch_lightning/trainer/connectors/data_connector.py:240: PossibleUserWarning: The dataloader, train_dataloader, does not have many workers which may be a bottleneck. Consider increasing the value of the `num_workers` argument` (try 12 which is the number of cpus on this machine) in the `DataLoader` init to improve performance.\n",
      "  rank_zero_warn(\n",
      "/home/vicente/Documents/Other/SDCV_test/env/lib/python3.8/site-packages/pytorch_lightning/trainer/trainer.py:1927: PossibleUserWarning: The number of training batches (4) is smaller than the logging interval Trainer(log_every_n_steps=50). Set a lower value for log_every_n_steps if you want to see logs for the training epoch.\n",
      "  rank_zero_warn(\n"
     ]
    },
    {
     "data": {
      "application/vnd.jupyter.widget-view+json": {
       "model_id": "1782088b291e4ab7b28256ae7ed13536",
       "version_major": 2,
       "version_minor": 0
      },
      "text/plain": [
       "Training: 0it [00:00, ?it/s]"
      ]
     },
     "metadata": {},
     "output_type": "display_data"
    },
    {
     "data": {
      "application/vnd.jupyter.widget-view+json": {
       "model_id": "fe470557f7794763984e90c70f3c1cef",
       "version_major": 2,
       "version_minor": 0
      },
      "text/plain": [
       "Validation: 0it [00:00, ?it/s]"
      ]
     },
     "metadata": {},
     "output_type": "display_data"
    },
    {
     "data": {
      "application/vnd.jupyter.widget-view+json": {
       "model_id": "1feffae58e2c4bf8ae01e86789e1bcb4",
       "version_major": 2,
       "version_minor": 0
      },
      "text/plain": [
       "Validation: 0it [00:00, ?it/s]"
      ]
     },
     "metadata": {},
     "output_type": "display_data"
    },
    {
     "data": {
      "application/vnd.jupyter.widget-view+json": {
       "model_id": "51a53dc08f4d49b0925db469c9004922",
       "version_major": 2,
       "version_minor": 0
      },
      "text/plain": [
       "Validation: 0it [00:00, ?it/s]"
      ]
     },
     "metadata": {},
     "output_type": "display_data"
    },
    {
     "data": {
      "application/vnd.jupyter.widget-view+json": {
       "model_id": "ed5c434041cb49a1b277d59e1fc4ac62",
       "version_major": 2,
       "version_minor": 0
      },
      "text/plain": [
       "Validation: 0it [00:00, ?it/s]"
      ]
     },
     "metadata": {},
     "output_type": "display_data"
    },
    {
     "data": {
      "application/vnd.jupyter.widget-view+json": {
       "model_id": "8b660032b6234954950d2432a1718913",
       "version_major": 2,
       "version_minor": 0
      },
      "text/plain": [
       "Validation: 0it [00:00, ?it/s]"
      ]
     },
     "metadata": {},
     "output_type": "display_data"
    },
    {
     "data": {
      "application/vnd.jupyter.widget-view+json": {
       "model_id": "d1761e69d14249599ee6cdf7bab64a46",
       "version_major": 2,
       "version_minor": 0
      },
      "text/plain": [
       "Validation: 0it [00:00, ?it/s]"
      ]
     },
     "metadata": {},
     "output_type": "display_data"
    },
    {
     "data": {
      "application/vnd.jupyter.widget-view+json": {
       "model_id": "10bb4011dcb9458c97f2d8509286129d",
       "version_major": 2,
       "version_minor": 0
      },
      "text/plain": [
       "Validation: 0it [00:00, ?it/s]"
      ]
     },
     "metadata": {},
     "output_type": "display_data"
    },
    {
     "data": {
      "application/vnd.jupyter.widget-view+json": {
       "model_id": "c2b8fb0bf2e3414396a9cb653de2dae8",
       "version_major": 2,
       "version_minor": 0
      },
      "text/plain": [
       "Validation: 0it [00:00, ?it/s]"
      ]
     },
     "metadata": {},
     "output_type": "display_data"
    },
    {
     "data": {
      "application/vnd.jupyter.widget-view+json": {
       "model_id": "786bfcb8e6e346aa8058e6e49adbc4a3",
       "version_major": 2,
       "version_minor": 0
      },
      "text/plain": [
       "Validation: 0it [00:00, ?it/s]"
      ]
     },
     "metadata": {},
     "output_type": "display_data"
    },
    {
     "data": {
      "application/vnd.jupyter.widget-view+json": {
       "model_id": "28069fe4cd0744059d82024ad9c924a3",
       "version_major": 2,
       "version_minor": 0
      },
      "text/plain": [
       "Validation: 0it [00:00, ?it/s]"
      ]
     },
     "metadata": {},
     "output_type": "display_data"
    },
    {
     "data": {
      "application/vnd.jupyter.widget-view+json": {
       "model_id": "634c0f7d306844428f1123f0bdedfb56",
       "version_major": 2,
       "version_minor": 0
      },
      "text/plain": [
       "Validation: 0it [00:00, ?it/s]"
      ]
     },
     "metadata": {},
     "output_type": "display_data"
    },
    {
     "data": {
      "application/vnd.jupyter.widget-view+json": {
       "model_id": "f4e0eaebaad74706b3fcfe42cfcb04e8",
       "version_major": 2,
       "version_minor": 0
      },
      "text/plain": [
       "Validation: 0it [00:00, ?it/s]"
      ]
     },
     "metadata": {},
     "output_type": "display_data"
    },
    {
     "data": {
      "application/vnd.jupyter.widget-view+json": {
       "model_id": "d60eab42175a4e1fb81c706abea41419",
       "version_major": 2,
       "version_minor": 0
      },
      "text/plain": [
       "Validation: 0it [00:00, ?it/s]"
      ]
     },
     "metadata": {},
     "output_type": "display_data"
    },
    {
     "data": {
      "application/vnd.jupyter.widget-view+json": {
       "model_id": "759c6a8d7e15454aa63bb9abd055e44d",
       "version_major": 2,
       "version_minor": 0
      },
      "text/plain": [
       "Validation: 0it [00:00, ?it/s]"
      ]
     },
     "metadata": {},
     "output_type": "display_data"
    },
    {
     "data": {
      "application/vnd.jupyter.widget-view+json": {
       "model_id": "5ba44950d9314419ad3f3c79db62abc2",
       "version_major": 2,
       "version_minor": 0
      },
      "text/plain": [
       "Validation: 0it [00:00, ?it/s]"
      ]
     },
     "metadata": {},
     "output_type": "display_data"
    },
    {
     "data": {
      "application/vnd.jupyter.widget-view+json": {
       "model_id": "3c2407c852b049438dd4993c19553b36",
       "version_major": 2,
       "version_minor": 0
      },
      "text/plain": [
       "Validation: 0it [00:00, ?it/s]"
      ]
     },
     "metadata": {},
     "output_type": "display_data"
    },
    {
     "data": {
      "application/vnd.jupyter.widget-view+json": {
       "model_id": "d89c64a135e7422199d9bc7d3ddd6cff",
       "version_major": 2,
       "version_minor": 0
      },
      "text/plain": [
       "Validation: 0it [00:00, ?it/s]"
      ]
     },
     "metadata": {},
     "output_type": "display_data"
    },
    {
     "data": {
      "application/vnd.jupyter.widget-view+json": {
       "model_id": "b4ab61b37d7c4008bc7224918d3972fb",
       "version_major": 2,
       "version_minor": 0
      },
      "text/plain": [
       "Validation: 0it [00:00, ?it/s]"
      ]
     },
     "metadata": {},
     "output_type": "display_data"
    },
    {
     "data": {
      "application/vnd.jupyter.widget-view+json": {
       "model_id": "2624812f048b43039d0ecbcdf949052e",
       "version_major": 2,
       "version_minor": 0
      },
      "text/plain": [
       "Validation: 0it [00:00, ?it/s]"
      ]
     },
     "metadata": {},
     "output_type": "display_data"
    },
    {
     "data": {
      "application/vnd.jupyter.widget-view+json": {
       "model_id": "4713a8f016694041958c663996abd382",
       "version_major": 2,
       "version_minor": 0
      },
      "text/plain": [
       "Validation: 0it [00:00, ?it/s]"
      ]
     },
     "metadata": {},
     "output_type": "display_data"
    }
   ],
   "source": [
    "# Fine-tune model\n",
    "tb_logger = pl_loggers.TensorBoardLogger(\"./logs_task2/\")\n",
    "fine_tuner = pl.Trainer(logger=tb_logger, gpus=1, max_epochs=20, auto_lr_find=True)\n",
    "fine_tuner.fit(model, train01_loader, test_loader)"
   ]
  },
  {
   "cell_type": "markdown",
   "metadata": {},
   "source": [
    "The model performance is similar to that of Task 1, with the addition of a slight overfit. However, transfering the weights of the network trained in a larger dataset with different labels, has proved to be successful. Hooray!\n",
    "\n",
    "### Task 2: Conclusions\n",
    "\n",
    "Transfer learning and fine-tuning have proven to be quite successful in classifying binary images, by simply modifying the last layer of the neural network. Although not included in the notebook, using the larger model (Ellie), and pruning produced superior results and correctly classified over 90% of the images in the binary test set."
   ]
  },
  {
   "cell_type": "code",
   "execution_count": null,
   "metadata": {},
   "outputs": [],
   "source": []
  }
 ],
 "metadata": {
  "interpreter": {
   "hash": "36cd9c72487dc6656f0700a68ff7f742b77337ee72bebccff0cc8ca781483210"
  },
  "kernelspec": {
   "display_name": "Python 3.8.10 ('env': venv)",
   "language": "python",
   "name": "python3"
  },
  "language_info": {
   "codemirror_mode": {
    "name": "ipython",
    "version": 3
   },
   "file_extension": ".py",
   "mimetype": "text/x-python",
   "name": "python",
   "nbconvert_exporter": "python",
   "pygments_lexer": "ipython3",
   "version": "3.8.10"
  },
  "orig_nbformat": 4
 },
 "nbformat": 4,
 "nbformat_minor": 2
}
